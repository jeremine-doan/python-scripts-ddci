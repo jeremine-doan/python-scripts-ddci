{
 "cells": [
  {
   "cell_type": "code",
   "execution_count": 1,
   "metadata": {},
   "outputs": [],
   "source": [
    "import pandas as pd\n",
    "import numpy as np\n",
    "from glob import glob\n",
    "import re"
   ]
  },
  {
   "cell_type": "code",
   "execution_count": 4,
   "metadata": {},
   "outputs": [
    {
     "data": {
      "text/plain": [
       "37"
      ]
     },
     "execution_count": 4,
     "metadata": {},
     "output_type": "execute_result"
    }
   ],
   "source": [
    "root_dir = r\"C:\\05_Project\\DDCI Ca Mau 2023\\3. DSDN\\2. Xu ly mau\"\n",
    "\n",
    "dp_paths = glob(root_dir+r\"\\DP\\**\\dp*.xlsx\", recursive=True)\n",
    "sbn_paths = glob(root_dir+r\"\\SBN\\**\\sbn*.xlsx\", recursive=True)\n",
    "mix_paths = glob(root_dir+r\"\\Mix\\**\\mix*.xlsx\", recursive=True)\n",
    "va_paths = glob(root_dir+r\"\\VA\\**\\va*.xlsx\", recursive=True)\n",
    "\n",
    "paths = dp_paths + sbn_paths + mix_paths + va_paths\n",
    "\n",
    "len(paths)"
   ]
  },
  {
   "cell_type": "code",
   "execution_count": 6,
   "metadata": {},
   "outputs": [],
   "source": [
    "unused_paths = [\"sbn_10\", \"sbn_17_b\"]\n",
    "frames = []\n",
    "\n",
    "for path in paths:\n",
    "    file_name = path.split(\"\\\\\")[-1].split(\".\")[0]\n",
    "    append = True\n",
    "    for unu_path in unused_paths:\n",
    "        if re.search(unu_path, path):\n",
    "            append = False\n",
    "            break\n",
    "    if append == True:\n",
    "        frame = pd.read_excel(path, dtype={\"sdt\": str})\n",
    "        add_col = pd.Series([file_name]*len(frame), name=\"file\")\n",
    "        frame = pd.concat([add_col, frame], axis=1)\n",
    "        frames.append(frame)\n",
    "    else:\n",
    "        pass\n",
    "\n",
    "df = pd.concat(frames, axis=0, ignore_index=True)"
   ]
  },
  {
   "cell_type": "code",
   "execution_count": 9,
   "metadata": {},
   "outputs": [
    {
     "data": {
      "text/plain": [
       "25304"
      ]
     },
     "execution_count": 9,
     "metadata": {},
     "output_type": "execute_result"
    }
   ],
   "source": [
    "df.replace(np.nan, None, inplace=True)\n",
    "\n",
    "filt = (df[\"dp\"].isna()) & ((df[\"sbn\"].isna()) | (df[\"sbn\"]==\"Sở Y tế\"))\n",
    "df = df.loc[~filt]\n",
    "\n",
    "len(df)"
   ]
  },
  {
   "cell_type": "code",
   "execution_count": 10,
   "metadata": {},
   "outputs": [],
   "source": [
    "df.to_excel(\"step_1.xlsx\", index=False)"
   ]
  }
 ],
 "metadata": {
  "kernelspec": {
   "display_name": "Python 3",
   "language": "python",
   "name": "python3"
  },
  "language_info": {
   "codemirror_mode": {
    "name": "ipython",
    "version": 3
   },
   "file_extension": ".py",
   "mimetype": "text/x-python",
   "name": "python",
   "nbconvert_exporter": "python",
   "pygments_lexer": "ipython3",
   "version": "3.12.2"
  }
 },
 "nbformat": 4,
 "nbformat_minor": 2
}
