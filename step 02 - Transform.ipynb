{
 "cells": [
  {
   "cell_type": "code",
   "execution_count": 1,
   "metadata": {},
   "outputs": [],
   "source": [
    "import openpyxl\n",
    "import re"
   ]
  },
  {
   "cell_type": "code",
   "execution_count": 2,
   "metadata": {},
   "outputs": [],
   "source": [
    "def excel_to_list2d(file_path: str, sheet_name: str):\n",
    "    wb = openpyxl.open(filename=file_path, data_only=True)\n",
    "    ws = wb[sheet_name]\n",
    "    list2d = [[cell.value for cell in row] for row in ws[1:ws.max_row]]\n",
    "    \n",
    "    return list2d"
   ]
  },
  {
   "cell_type": "code",
   "execution_count": 3,
   "metadata": {},
   "outputs": [],
   "source": [
    "def list2d_to_new_excel(list2d: list, new_path: str):\n",
    "    wb = openpyxl.Workbook()\n",
    "    ws = wb.active\n",
    "\n",
    "    for row_idx, row in enumerate(list2d):\n",
    "        for col_idx, col in enumerate(row):\n",
    "            val = list2d[row_idx][col_idx]\n",
    "            ws.cell(\n",
    "                row=row_idx+1,\n",
    "                column=col_idx+1,\n",
    "                value=val\n",
    "            )\n",
    "\n",
    "    wb.save(new_path)"
   ]
  },
  {
   "cell_type": "code",
   "execution_count": 4,
   "metadata": {},
   "outputs": [],
   "source": [
    "def update_mst(mst):\n",
    "    if mst in [\"\", None]:\n",
    "        mst = None\n",
    "    else:\n",
    "        # Convert to upper-case string.\n",
    "        mst = str(mst).upper()\n",
    "        # Remove non-letter/non-number characters.\n",
    "        mst = re.sub(\"[^A-Z0-9]\", \"\", mst)\n",
    "        # Add leading \"0\" character (if necessary).\n",
    "        str_len = len(mst)\n",
    "        if str_len in [9, 12] and mst[0] != \"0\":\n",
    "            mst = re.sub(\"^\", \"0\", mst)\n",
    "        # Remove non-standard mst.\n",
    "        str_len = len(mst)\n",
    "        if str_len == 10:\n",
    "            pass\n",
    "        elif str_len == 13:\n",
    "            mst = mst[:10] + \"-\" + mst[10:]\n",
    "        else:\n",
    "            mst = None\n",
    "    \n",
    "    return mst"
   ]
  },
  {
   "cell_type": "code",
   "execution_count": 5,
   "metadata": {},
   "outputs": [],
   "source": [
    "unikey = {\n",
    "    \"a\": [\n",
    "        \"a\", \"á\", \"à\", \"ả\", \"ã\", \"ạ\",\n",
    "        \"ă\", \"ắ\", \"ằ\", \"ẳ\", \"ẵ\", \"ặ\",\n",
    "        \"â\", \"ấ\", \"ầ\", \"ẩ\", \"ẫ\", \"ậ\"\n",
    "    ],\n",
    "    \"d\": [\n",
    "        \"d\", \"đ\"\n",
    "    ],\n",
    "    \"e\": [\n",
    "        \"e\", \"é\", \"è\", \"ẻ\", \"ẽ\", \"ẹ\",\n",
    "        \"ê\", \"ế\", \"ề\", \"ể\", \"ễ\", \"ệ\"\n",
    "    ],\n",
    "    \"i\": [\n",
    "        \"i\", \"í\", \"ì\", \"ỉ\", \"ĩ\", \"ị\"\n",
    "    ],\n",
    "    \"o\": [\n",
    "        \"o\", \"ó\", \"ò\", \"ỏ\", \"õ\", \"ọ\",\n",
    "        \"ô\", \"ố\", \"ồ\", \"ổ\", \"ỗ\", \"ộ\",\n",
    "        \"ơ\", \"ớ\", \"ờ\", \"ở\", \"ỡ\", \"ợ\"\n",
    "    ],\n",
    "    \"u\": [\n",
    "        \"u\", \"ú\", \"ù\", \"ủ\", \"ũ\", \"ụ\",\n",
    "        \"ư\", \"ứ\", \"ừ\", \"ử\", \"ữ\", \"ự\"\n",
    "    ],\n",
    "    \"y\": [\n",
    "        \"y\", \"ý\", \"ỳ\", \"ỷ\", \"ỹ\", \"ỵ\"\n",
    "    ]\n",
    "}"
   ]
  },
  {
   "cell_type": "code",
   "execution_count": 6,
   "metadata": {},
   "outputs": [],
   "source": [
    "uni_str = \"\"\n",
    "for key, value in unikey.items():\n",
    "    chars = []\n",
    "    for char in value:\n",
    "        chars.append(char)\n",
    "    globals()[\"uni_{}\".format(key)] = \"\".join(chars)\n",
    "    uni_str += \"\".join(chars)"
   ]
  },
  {
   "cell_type": "code",
   "execution_count": 7,
   "metadata": {},
   "outputs": [],
   "source": [
    "def regex(txt: str):\n",
    "    chars = list(txt)\n",
    "    idx_adj = 0\n",
    "    for idx, char in enumerate(txt):\n",
    "        if char in unikey.keys():\n",
    "            chars.insert(idx+idx_adj, \"[{\")\n",
    "            chars.insert(idx+idx_adj+2, \"}]\")\n",
    "            idx_adj += 2\n",
    "    txt = \"\".join(chars)\n",
    "    txt = txt.format(\n",
    "        a=uni_a, d=uni_d, e=uni_e, i=uni_i,\n",
    "        o=uni_o, u=uni_u, y=uni_y\n",
    "    )\n",
    "\n",
    "    return txt"
   ]
  },
  {
   "cell_type": "code",
   "execution_count": 8,
   "metadata": {},
   "outputs": [],
   "source": [
    "com_phrases = {\n",
    "    \"cn\": [\"chi nhanh\"],\n",
    "    \"công ty\": [\"cong ty\", \"cty\"],\n",
    "    \"dntn\": [\"doanh nghiep tu nhan\", \"doanh nghiep tn\", \"dn tu nhan\", \"dn *tn\"],\n",
    "    \"tnhh\": [\"trach nhiem huu han\", \"tn hh\"],\n",
    "    \"cp\": [\"co phan\"],\n",
    "    \"mtv\": [\"mot thanh vien\", \"0*1 thanh vien\", \"0*1 *tv\"],\n",
    "    \"vpđd\": [\"van phong dai dien\", \"vp dai dien\", \"vp *dd\"],\n",
    "    \"vpcc\": [\"van phong cong chung\", \"vp cong chung\", \"vp cc\"],\n",
    "    \"đđkd\": [\"dia diem kinh doanh\", \"dia diem kd\", \"dd kinh doanh\", \"dd *kd\"],\n",
    "    \"htx\": [\"hop tac xa\"],\n",
    "    \"hkd\": [\"ho kinh doanh\", \"ho kd\", \"hkd\"],\n",
    "    \" đầu tư \": [\" đt \"],\n",
    "    \" sản xuất \": [\" sx \"],\n",
    "    \" xây dựng \": [\" xd \"],\n",
    "    \" thương mại \": [\" tm \"],\n",
    "    \" dịch vụ \": [\" dv \"],\n",
    "    \" du lịch \": [\" dl \"],\n",
    "    \" quảng cáo \": [\" qc \"],\n",
    "    \"tmdv\": [\"thuong mai [v&-]*a* *dich vu\", \"tm [v&-]*a* *dich vu\", \"thuong mai [v&-]*a* *dv\"],\n",
    "    \"xnk\": [\"xuat [-]* *nhap khau\", \"x [-] n khau\", \"xn khau\"],\n",
    "    \"bđs\": [\"bat dong san\"]\n",
    "}"
   ]
  },
  {
   "cell_type": "code",
   "execution_count": 9,
   "metadata": {},
   "outputs": [],
   "source": [
    "def update_tendn(ten_dn):\n",
    "    if ten_dn in [\"\", None]:\n",
    "        ten_dn = None\n",
    "    else:\n",
    "        # Convert to lower-case string.\n",
    "        ten_dn = str(ten_dn).lower()\n",
    "        # Remove leading/trailing non-letter/non-number characters.\n",
    "        ten_dn = re.sub(\"^[^0-9a-z{0}]+|[^0-9a-z{0}]+$\".format(uni_str), \"\", ten_dn)\n",
    "        # Replace U+2013 with U+002d, a more common dash symbol.\n",
    "        ten_dn = re.sub(\"–\", \"-\", ten_dn)\n",
    "        # Remove some special characters.\n",
    "        ten_dn = re.sub(\"[^0-9a-z{0}&.-]+\".format(uni_str), \" \", ten_dn)\n",
    "        # Wrap special cases with whitespaces.\n",
    "        ten_dn = re.sub(\"-\", \" - \", ten_dn)\n",
    "        ten_dn = re.sub(\"&\", \" & \", ten_dn)\n",
    "        # Compress adjacent whitespaces into one.\n",
    "        ten_dn = re.sub(\" +\", \" \", ten_dn)\n",
    "        # Handle common phrases.\n",
    "        for key, value in com_phrases.items():\n",
    "            for phrase in value:\n",
    "                ten_dn = re.sub(regex(phrase), key, ten_dn, 1)\n",
    "        \n",
    "        return ten_dn"
   ]
  },
  {
   "cell_type": "code",
   "execution_count": 10,
   "metadata": {},
   "outputs": [],
   "source": [
    "table = excel_to_list2d(\"step_1.xlsx\", \"Sheet1\")"
   ]
  },
  {
   "cell_type": "code",
   "execution_count": 11,
   "metadata": {},
   "outputs": [],
   "source": [
    "mst_idx = 2\n",
    "tendn_idx = 3\n",
    "sbn_idx = 8"
   ]
  },
  {
   "cell_type": "code",
   "execution_count": 12,
   "metadata": {},
   "outputs": [],
   "source": [
    "for row in table:\n",
    "    row[mst_idx] = update_mst(row[mst_idx])\n",
    "    row[tendn_idx] = update_tendn(row[tendn_idx])\n",
    "    if row[sbn_idx] == \"Sở Y tế\":\n",
    "        row[sbn_idx] = None"
   ]
  },
  {
   "cell_type": "code",
   "execution_count": 13,
   "metadata": {},
   "outputs": [],
   "source": [
    "list2d_to_new_excel(table, \"step_2.xlsx\")"
   ]
  }
 ],
 "metadata": {
  "kernelspec": {
   "display_name": "Python 3",
   "language": "python",
   "name": "python3"
  },
  "language_info": {
   "codemirror_mode": {
    "name": "ipython",
    "version": 3
   },
   "file_extension": ".py",
   "mimetype": "text/x-python",
   "name": "python",
   "nbconvert_exporter": "python",
   "pygments_lexer": "ipython3",
   "version": "3.12.2"
  }
 },
 "nbformat": 4,
 "nbformat_minor": 2
}
