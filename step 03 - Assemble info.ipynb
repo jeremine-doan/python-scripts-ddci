{
 "cells": [
  {
   "cell_type": "code",
   "execution_count": 1,
   "metadata": {},
   "outputs": [],
   "source": [
    "import openpyxl\n",
    "import re"
   ]
  },
  {
   "cell_type": "code",
   "execution_count": 2,
   "metadata": {},
   "outputs": [],
   "source": [
    "def excel_to_list2d(file_path: str, sheet_name: str):\n",
    "    wb = openpyxl.open(filename=file_path, data_only=True)\n",
    "    ws = wb[sheet_name]\n",
    "    list2d = [[cell.value for cell in row] for row in ws[2:ws.max_row]]\n",
    "    \n",
    "    return list2d"
   ]
  },
  {
   "cell_type": "code",
   "execution_count": 3,
   "metadata": {},
   "outputs": [],
   "source": [
    "def list2d_to_new_excel(list2d: list, new_path: str):\n",
    "    wb = openpyxl.Workbook()\n",
    "    ws = wb.active\n",
    "\n",
    "    for row_idx, row in enumerate(list2d):\n",
    "        for col_idx, col in enumerate(row):\n",
    "            val = list2d[row_idx][col_idx]\n",
    "            ws.cell(\n",
    "                row=row_idx+1,\n",
    "                column=col_idx+1,\n",
    "                value=val\n",
    "            )\n",
    "\n",
    "    wb.save(new_path)"
   ]
  },
  {
   "cell_type": "code",
   "execution_count": 4,
   "metadata": {},
   "outputs": [],
   "source": [
    "unikey = {\n",
    "    \"a\": [\n",
    "        \"a\", \"á\", \"à\", \"ả\", \"ã\", \"ạ\",\n",
    "        \"ă\", \"ắ\", \"ằ\", \"ẳ\", \"ẵ\", \"ặ\",\n",
    "        \"â\", \"ấ\", \"ầ\", \"ẩ\", \"ẫ\", \"ậ\"\n",
    "    ],\n",
    "    \"d\": [\n",
    "        \"d\", \"đ\"\n",
    "    ],\n",
    "    \"e\": [\n",
    "        \"e\", \"é\", \"è\", \"ẻ\", \"ẽ\", \"ẹ\",\n",
    "        \"ê\", \"ế\", \"ề\", \"ể\", \"ễ\", \"ệ\"\n",
    "    ],\n",
    "    \"i\": [\n",
    "        \"i\", \"í\", \"ì\", \"ỉ\", \"ĩ\", \"ị\"\n",
    "    ],\n",
    "    \"o\": [\n",
    "        \"o\", \"ó\", \"ò\", \"ỏ\", \"õ\", \"ọ\",\n",
    "        \"ô\", \"ố\", \"ồ\", \"ổ\", \"ỗ\", \"ộ\",\n",
    "        \"ơ\", \"ớ\", \"ờ\", \"ở\", \"ỡ\", \"ợ\"\n",
    "    ],\n",
    "    \"u\": [\n",
    "        \"u\", \"ú\", \"ù\", \"ủ\", \"ũ\", \"ụ\",\n",
    "        \"ư\", \"ứ\", \"ừ\", \"ử\", \"ữ\", \"ự\"\n",
    "    ],\n",
    "    \"y\": [\n",
    "        \"y\", \"ý\", \"ỳ\", \"ỷ\", \"ỹ\", \"ỵ\"\n",
    "    ]\n",
    "}"
   ]
  },
  {
   "cell_type": "code",
   "execution_count": 5,
   "metadata": {},
   "outputs": [],
   "source": [
    "uni_str = \"\"\n",
    "for key, value in unikey.items():\n",
    "    chars = []\n",
    "    for char in value:\n",
    "        chars.append(char)\n",
    "    globals()[\"uni_{}\".format(key)] = \"\".join(chars)\n",
    "    uni_str += \"\".join(chars)"
   ]
  },
  {
   "cell_type": "code",
   "execution_count": 7,
   "metadata": {},
   "outputs": [],
   "source": [
    "table = excel_to_list2d(\"step_2.xlsx\", \"Sheet\")"
   ]
  },
  {
   "cell_type": "code",
   "execution_count": 8,
   "metadata": {},
   "outputs": [],
   "source": [
    "file_idx = 0\n",
    "mst_idx = 2\n",
    "tendn_idx = 3\n",
    "diachi_idx = 4\n",
    "sdt_idx = 5\n",
    "email_idx = 6\n",
    "dp_idx = 7\n",
    "sbn_idx = 8"
   ]
  },
  {
   "cell_type": "code",
   "execution_count": 9,
   "metadata": {},
   "outputs": [],
   "source": [
    "mst_from_rows = []\n",
    "for row in table:\n",
    "    mst = row[mst_idx]\n",
    "    if mst != None:\n",
    "        mst_from_rows.append(mst)\n",
    "uniq_mst = list(set(mst_from_rows))"
   ]
  },
  {
   "cell_type": "code",
   "execution_count": 10,
   "metadata": {},
   "outputs": [],
   "source": [
    "file_by_mst = {}\n",
    "tendn_by_mst = {}\n",
    "diachi_by_mst = {}\n",
    "sdt_by_mst = {}\n",
    "email_by_mst = {}\n",
    "dp_by_mst = {}\n",
    "sbn_by_mst = {}\n",
    "\n",
    "mst_by_tendn = {}\n",
    "\n",
    "tendn_0_mst = []"
   ]
  },
  {
   "cell_type": "code",
   "execution_count": 11,
   "metadata": {},
   "outputs": [],
   "source": [
    "for mst in uniq_mst:\n",
    "    file_by_mst[mst] = []\n",
    "    tendn_by_mst[mst] = None\n",
    "    diachi_by_mst[mst] = None\n",
    "    sdt_by_mst[mst] = []\n",
    "    email_by_mst[mst] = []\n",
    "    dp_by_mst[mst] = None\n",
    "    sbn_by_mst[mst] = []"
   ]
  },
  {
   "cell_type": "code",
   "execution_count": 12,
   "metadata": {},
   "outputs": [],
   "source": [
    "for row in table:\n",
    "    file = row[file_idx]\n",
    "    mst = row[mst_idx]\n",
    "    tendn = row[tendn_idx]\n",
    "    diachi = row[diachi_idx]\n",
    "    sdt = row[sdt_idx]\n",
    "    email = row[email_idx]\n",
    "    dp = row[dp_idx]\n",
    "    sbn = row[sbn_idx]\n",
    "    if mst != None:\n",
    "        if file != None:\n",
    "            file_by_mst[mst].append(file)\n",
    "        if tendn != None:\n",
    "            tendn_by_mst[mst] = tendn\n",
    "            # ...\n",
    "            tendn_key = re.sub(\"[^a-z{}]\".format(uni_str), \" \", tendn)\n",
    "            tendn_key = re.sub(\" +\", \" \", tendn_key)\n",
    "            tendn_key = tendn_key.strip()\n",
    "            mst_by_tendn[tendn_key] = mst\n",
    "        if diachi != None:\n",
    "            diachi_by_mst[mst] = diachi\n",
    "        if sdt != None:\n",
    "            sdt_by_mst[mst].extend(sdt.split(\";\"))\n",
    "        if email != None:\n",
    "            email_by_mst[mst].extend(email.split(\";\"))\n",
    "        if dp != None:\n",
    "            dp_by_mst[mst] = dp\n",
    "        if sbn != None:\n",
    "            sbn_by_mst[mst].extend(sbn.split(\";\"))"
   ]
  },
  {
   "cell_type": "code",
   "execution_count": 13,
   "metadata": {},
   "outputs": [],
   "source": [
    "for row in table:\n",
    "    file = row[file_idx]\n",
    "    mst = row[mst_idx]\n",
    "    tendn = row[tendn_idx]\n",
    "    diachi = row[diachi_idx]\n",
    "    sdt = row[sdt_idx]\n",
    "    email = row[email_idx]\n",
    "    dp = row[dp_idx]\n",
    "    sbn = row[sbn_idx]\n",
    "    if mst == None and tendn != None:\n",
    "        tendn_key = re.sub(\"[^a-z{}]\".format(uni_str), \" \", tendn)\n",
    "        tendn_key = re.sub(\" +\", \" \", tendn_key)\n",
    "        tendn_key = tendn_key.strip()\n",
    "        try:\n",
    "            mst = mst_by_tendn[tendn_key]\n",
    "            if file != None:\n",
    "                file_by_mst[mst].append(file)\n",
    "            if diachi != None:\n",
    "                diachi_by_mst[mst] = diachi\n",
    "            if sdt != None:\n",
    "                sdt_by_mst[mst].extend(sdt.split(\";\"))\n",
    "            if email != None:\n",
    "                email_by_mst[mst].extend(email.split(\";\"))\n",
    "            if dp != None:\n",
    "                dp_by_mst[mst] = dp\n",
    "            if sbn != None:\n",
    "                sbn_by_mst[mst].extend(sbn.split(\";\"))\n",
    "        except:\n",
    "            tendn_0_mst.append(tendn)"
   ]
  },
  {
   "cell_type": "code",
   "execution_count": 14,
   "metadata": {},
   "outputs": [],
   "source": [
    "tendn_0_mst = list(set(tendn_0_mst))\n",
    "\n",
    "file_0_mst = {}\n",
    "diachi_0_mst = {}\n",
    "sdt_0_mst = {}\n",
    "email_0_mst = {}\n",
    "dp_0_mst = {}\n",
    "sbn_0_mst = {}"
   ]
  },
  {
   "cell_type": "code",
   "execution_count": 15,
   "metadata": {},
   "outputs": [],
   "source": [
    "for tendn_key in tendn_0_mst:\n",
    "    file_0_mst[tendn_key] = []\n",
    "    diachi_0_mst[tendn_key] = None\n",
    "    sdt_0_mst[tendn_key] = []\n",
    "    email_0_mst[tendn_key] = []\n",
    "    dp_0_mst[tendn_key] = None\n",
    "    sbn_0_mst[tendn_key] = []"
   ]
  },
  {
   "cell_type": "code",
   "execution_count": 16,
   "metadata": {},
   "outputs": [],
   "source": [
    "for row in table:\n",
    "    file = row[file_idx]\n",
    "    mst = row[mst_idx]\n",
    "    tendn = row[tendn_idx]\n",
    "    diachi = row[diachi_idx]\n",
    "    sdt = row[sdt_idx]\n",
    "    email = row[email_idx]\n",
    "    dp = row[dp_idx]\n",
    "    sbn = row[sbn_idx]\n",
    "    if tendn in tendn_0_mst:\n",
    "        if file != None:\n",
    "            file_0_mst[tendn].append(file)\n",
    "        if diachi != None:\n",
    "            diachi_0_mst[tendn] = diachi\n",
    "        if sdt != None:\n",
    "            sdt_0_mst[tendn].extend(sdt.split(\";\"))\n",
    "        if email != None:\n",
    "            email_0_mst[tendn].extend(email.split(\";\"))\n",
    "        if dp != None:\n",
    "            dp_0_mst[tendn] = dp\n",
    "        if sbn != None:\n",
    "            sbn_0_mst[tendn].extend(sbn.split(\";\"))"
   ]
  },
  {
   "cell_type": "code",
   "execution_count": 17,
   "metadata": {},
   "outputs": [],
   "source": [
    "max_file = 1\n",
    "max_sdt = 1\n",
    "max_email = 1\n",
    "max_sbn = 1"
   ]
  },
  {
   "cell_type": "code",
   "execution_count": 18,
   "metadata": {},
   "outputs": [],
   "source": [
    "for mst in uniq_mst:\n",
    "    file_by_mst[mst] = list(set(file_by_mst[mst]))\n",
    "    if len(file_by_mst[mst]) > max_file:\n",
    "        max_file = len(file_by_mst[mst])\n",
    "    sdt_by_mst[mst] = list(set(sdt_by_mst[mst]))\n",
    "    if len(sdt_by_mst[mst]) > max_sdt:\n",
    "        max_sdt = len(sdt_by_mst[mst])\n",
    "    email_by_mst[mst] = list(set(email_by_mst[mst]))\n",
    "    if len(email_by_mst[mst]) > max_email:\n",
    "        max_email = len(email_by_mst[mst])\n",
    "    sbn_by_mst[mst] = list(set(sbn_by_mst[mst]))\n",
    "    if len(sbn_by_mst[mst]) > max_sbn:\n",
    "        max_sbn = len(sbn_by_mst[mst])"
   ]
  },
  {
   "cell_type": "code",
   "execution_count": 19,
   "metadata": {},
   "outputs": [],
   "source": [
    "for tendn_key in tendn_0_mst:\n",
    "    file_0_mst[tendn_key] = list(set(file_0_mst[tendn_key]))\n",
    "    if len(file_0_mst[tendn_key]) > max_file:\n",
    "        max_file = len(file_0_mst[tendn_key])\n",
    "    sdt_0_mst[tendn_key] = list(set(sdt_0_mst[tendn_key]))\n",
    "    if len(sdt_0_mst[tendn_key]) > max_sdt:\n",
    "        max_sdt = len(sdt_0_mst[tendn_key])\n",
    "    email_0_mst[tendn_key] = list(set(email_0_mst[tendn_key]))\n",
    "    if len(email_0_mst[tendn_key]) > max_email:\n",
    "        max_email = len(email_0_mst[tendn_key])\n",
    "    sbn_0_mst[tendn_key] = list(set(sbn_0_mst[tendn_key]))\n",
    "    if len(sbn_0_mst[tendn_key]) > max_sbn:\n",
    "        max_sbn = len(sbn_0_mst[tendn_key])"
   ]
  },
  {
   "cell_type": "code",
   "execution_count": 20,
   "metadata": {},
   "outputs": [],
   "source": [
    "for mst in uniq_mst:\n",
    "    while len(file_by_mst[mst]) < max_file:\n",
    "        file_by_mst[mst].append(None)\n",
    "    while len(sdt_by_mst[mst]) < max_sdt:\n",
    "        sdt_by_mst[mst].append(None)\n",
    "    while len(email_by_mst[mst]) < max_email:\n",
    "        email_by_mst[mst].append(None)\n",
    "    while len(sbn_by_mst[mst]) < max_sbn:\n",
    "        sbn_by_mst[mst].append(None)"
   ]
  },
  {
   "cell_type": "code",
   "execution_count": 21,
   "metadata": {},
   "outputs": [],
   "source": [
    "for tendn_key in tendn_0_mst:\n",
    "    while len(file_0_mst[tendn_key]) < max_file:\n",
    "        file_0_mst[tendn_key].append(None)\n",
    "    while len(sdt_0_mst[tendn_key]) < max_sdt:\n",
    "        sdt_0_mst[tendn_key].append(None)\n",
    "    while len(email_0_mst[tendn_key]) < max_email:\n",
    "        email_0_mst[tendn_key].append(None)\n",
    "    while len(sbn_0_mst[tendn_key]) < max_sbn:\n",
    "        sbn_0_mst[tendn_key].append(None)"
   ]
  },
  {
   "cell_type": "code",
   "execution_count": 22,
   "metadata": {},
   "outputs": [],
   "source": [
    "new_tbl = []"
   ]
  },
  {
   "cell_type": "code",
   "execution_count": 23,
   "metadata": {},
   "outputs": [],
   "source": [
    "for mst in uniq_mst:\n",
    "    row = []\n",
    "    row.extend(file_by_mst[mst])\n",
    "    row.append(mst)\n",
    "    row.append(tendn_by_mst[mst])\n",
    "    row.append(diachi_by_mst[mst])\n",
    "    row.extend(sdt_by_mst[mst])\n",
    "    row.extend(email_by_mst[mst])\n",
    "    row.append(dp_by_mst[mst])\n",
    "    row.extend(sbn_by_mst[mst])\n",
    "    new_tbl.append(row)"
   ]
  },
  {
   "cell_type": "code",
   "execution_count": 24,
   "metadata": {},
   "outputs": [],
   "source": [
    "for tendn_key in tendn_0_mst:\n",
    "    row = []\n",
    "    row.extend(file_0_mst[tendn_key])\n",
    "    row.append(None)\n",
    "    row.append(tendn_key)\n",
    "    row.append(diachi_0_mst[tendn_key])\n",
    "    row.extend(sdt_0_mst[tendn_key])\n",
    "    row.extend(email_0_mst[tendn_key])\n",
    "    row.append(dp_0_mst[tendn_key])\n",
    "    row.extend(sbn_0_mst[tendn_key])\n",
    "    new_tbl.append(row)"
   ]
  },
  {
   "cell_type": "code",
   "execution_count": 25,
   "metadata": {},
   "outputs": [],
   "source": [
    "list2d_to_new_excel(new_tbl, \"step_3.xlsx\")"
   ]
  }
 ],
 "metadata": {
  "kernelspec": {
   "display_name": "Python 3",
   "language": "python",
   "name": "python3"
  },
  "language_info": {
   "codemirror_mode": {
    "name": "ipython",
    "version": 3
   },
   "file_extension": ".py",
   "mimetype": "text/x-python",
   "name": "python",
   "nbconvert_exporter": "python",
   "pygments_lexer": "ipython3",
   "version": "3.12.2"
  }
 },
 "nbformat": 4,
 "nbformat_minor": 2
}
