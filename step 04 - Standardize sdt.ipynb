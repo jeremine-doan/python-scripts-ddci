{
 "cells": [
  {
   "cell_type": "code",
   "execution_count": 1,
   "metadata": {},
   "outputs": [],
   "source": [
    "import openpyxl\n",
    "import re"
   ]
  },
  {
   "cell_type": "code",
   "execution_count": 2,
   "metadata": {},
   "outputs": [],
   "source": [
    "def excel_to_list2d(file_path: str, sheet_name: str):\n",
    "    wb = openpyxl.open(filename=file_path, data_only=True)\n",
    "    ws = wb[sheet_name]\n",
    "    list2d = [[cell.value for cell in row] for row in ws[1:ws.max_row]]\n",
    "    \n",
    "    return list2d"
   ]
  },
  {
   "cell_type": "code",
   "execution_count": 3,
   "metadata": {},
   "outputs": [],
   "source": [
    "def list2d_to_new_excel(list2d: list, new_path: str):\n",
    "    wb = openpyxl.Workbook()\n",
    "    ws = wb.active\n",
    "\n",
    "    for row_idx, row in enumerate(list2d):\n",
    "        for col_idx, col in enumerate(row):\n",
    "            val = list2d[row_idx][col_idx]\n",
    "            ws.cell(\n",
    "                row=row_idx+1,\n",
    "                column=col_idx+1,\n",
    "                value=val\n",
    "            )\n",
    "\n",
    "    wb.save(new_path)"
   ]
  },
  {
   "cell_type": "code",
   "execution_count": 4,
   "metadata": {},
   "outputs": [],
   "source": [
    "table = excel_to_list2d(\"step_3.xlsx\", \"Sheet\")\n",
    "refer_tbl = excel_to_list2d(r\"C:\\05_Project\\DDCI Ca Mau 2023\\3. DSDN\\2. Xu ly mau\\dau_sdt.xlsx\", \"Mobile\")"
   ]
  },
  {
   "cell_type": "code",
   "execution_count": null,
   "metadata": {},
   "outputs": [
    {
     "name": "stdout",
     "output_type": "stream",
     "text": [
      "{'0780': '0290', '086': '086', '096': '096', '097': '097', '098': '098', '0162': '032', '0163': '033', '0164': '034', '0165': '035', '0166': '036', '0167': '037', '0168': '038', '0169': '039', '088': '088', '091': '091', '094': '094', '0123': '083', '0124': '084', '0125': '085', '0127': '081', '0129': '082', '089': '089', '090': '090', '093': '093', '0120': '070', '0121': '079', '0122': '077', '0126': '076', '0128': '078', '092': '092', '056': '056', '058': '058', '099': '099', '0199': '059'}\n"
     ]
    }
   ],
   "source": [
    "sdt_update = {\"0780\": \"0290\"}\n",
    "\n",
    "for row in refer_tbl[1:]:\n",
    "    sdt_update[row[2]] = row[3]\n",
    "\n",
    "print(sdt_update)"
   ]
  },
  {
   "cell_type": "code",
   "execution_count": 6,
   "metadata": {},
   "outputs": [],
   "source": [
    "for row in table:\n",
    "    for i in range(14, 20+1):\n",
    "        sdt = row[i]\n",
    "        if sdt != None:\n",
    "            if re.search(\"[^0-9]\", sdt):\n",
    "                last_digits = sdt.split(\" \")[-1]\n",
    "                if len(last_digits) >= 10:\n",
    "                    sdt = last_digits\n",
    "                else:\n",
    "                    sdt = re.sub(\"[^0-9]\", \"\", sdt)\n",
    "                row[i] = sdt"
   ]
  },
  {
   "cell_type": "code",
   "execution_count": 7,
   "metadata": {},
   "outputs": [],
   "source": [
    "for row in table:\n",
    "    for i in range(14, 20+1):\n",
    "        sdt = row[i]\n",
    "        if sdt in [\"\", None]:\n",
    "            sdt = None\n",
    "        else:\n",
    "            if len(sdt) in [11, 12] and re.search(\"^84\", sdt):\n",
    "                sdt = re.sub(\"^84\", \"0\", sdt)\n",
    "            if len(sdt) in [9, 10] and re.search(\"^[1-9]\", sdt):\n",
    "                sdt = \"0\" + sdt\n",
    "            for old, new in sdt_update.items():\n",
    "                if len(sdt) == 11 and re.search(\"^{}\".format(old), sdt):\n",
    "                    sdt = re.sub(\"^{}\".format(old), new, sdt)\n",
    "        row[i] = sdt"
   ]
  },
  {
   "cell_type": "code",
   "execution_count": 8,
   "metadata": {},
   "outputs": [],
   "source": [
    "list2d_to_new_excel(table, \"step_4.xlsx\")"
   ]
  }
 ],
 "metadata": {
  "kernelspec": {
   "display_name": "Python 3",
   "language": "python",
   "name": "python3"
  },
  "language_info": {
   "codemirror_mode": {
    "name": "ipython",
    "version": 3
   },
   "file_extension": ".py",
   "mimetype": "text/x-python",
   "name": "python",
   "nbconvert_exporter": "python",
   "pygments_lexer": "ipython3",
   "version": "3.12.2"
  }
 },
 "nbformat": 4,
 "nbformat_minor": 2
}
