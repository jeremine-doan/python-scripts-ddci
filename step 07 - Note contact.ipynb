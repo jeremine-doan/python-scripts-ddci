{
 "cells": [
  {
   "cell_type": "code",
   "execution_count": 1,
   "metadata": {},
   "outputs": [],
   "source": [
    "import openpyxl\n",
    "import re\n",
    "import pandas as pd"
   ]
  },
  {
   "cell_type": "code",
   "execution_count": 2,
   "metadata": {},
   "outputs": [],
   "source": [
    "def excel_to_list2d(file_path: str, sheet_name: str):\n",
    "    wb = openpyxl.open(filename=file_path, data_only=True)\n",
    "    ws = wb[sheet_name]\n",
    "    list2d = [[cell.value for cell in row] for row in ws[1:ws.max_row]]\n",
    "    \n",
    "    return list2d"
   ]
  },
  {
   "cell_type": "code",
   "execution_count": 3,
   "metadata": {},
   "outputs": [],
   "source": [
    "def list2d_to_new_excel(list2d: list, new_path: str):\n",
    "    wb = openpyxl.Workbook()\n",
    "    ws = wb.active\n",
    "\n",
    "    for row_idx, row in enumerate(list2d):\n",
    "        for col_idx, col in enumerate(row):\n",
    "            val = list2d[row_idx][col_idx]\n",
    "            ws.cell(\n",
    "                row=row_idx+1,\n",
    "                column=col_idx+1,\n",
    "                value=val\n",
    "            )\n",
    "\n",
    "    wb.save(new_path)"
   ]
  },
  {
   "cell_type": "code",
   "execution_count": 4,
   "metadata": {},
   "outputs": [],
   "source": [
    "table = excel_to_list2d(\"step_6.xlsx\", \"Sheet\")"
   ]
  },
  {
   "cell_type": "code",
   "execution_count": 5,
   "metadata": {},
   "outputs": [],
   "source": [
    "for row in table:\n",
    "    # Sdt\n",
    "    has_sdt = False\n",
    "    for i in range(14, 20+1):\n",
    "        if row[i] != None:\n",
    "            has_sdt = True\n",
    "            break\n",
    "    if has_sdt == True:\n",
    "        row.append(\"has_sdt\")\n",
    "    else:\n",
    "        row.append(None)\n",
    "    # Email\n",
    "    has_email = False\n",
    "    for i in range(21, 24+1):\n",
    "        if row[i] != None:\n",
    "            has_email = True\n",
    "            break\n",
    "    if has_email == True:\n",
    "        row.append(\"has_email\")\n",
    "    else:\n",
    "        row.append(None)"
   ]
  },
  {
   "cell_type": "code",
   "execution_count": 6,
   "metadata": {},
   "outputs": [],
   "source": [
    "for row in table:\n",
    "    if row[12] != None:\n",
    "        row[12] = row[12].upper()"
   ]
  },
  {
   "cell_type": "code",
   "execution_count": 7,
   "metadata": {},
   "outputs": [],
   "source": [
    "list2d_to_new_excel(table, \"step_7.xlsx\")"
   ]
  }
 ],
 "metadata": {
  "kernelspec": {
   "display_name": "Python 3",
   "language": "python",
   "name": "python3"
  },
  "language_info": {
   "codemirror_mode": {
    "name": "ipython",
    "version": 3
   },
   "file_extension": ".py",
   "mimetype": "text/x-python",
   "name": "python",
   "nbconvert_exporter": "python",
   "pygments_lexer": "ipython3",
   "version": "3.12.2"
  }
 },
 "nbformat": 4,
 "nbformat_minor": 2
}
