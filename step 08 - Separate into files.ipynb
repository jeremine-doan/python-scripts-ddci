{
 "cells": [
  {
   "cell_type": "code",
   "execution_count": 1,
   "metadata": {},
   "outputs": [],
   "source": [
    "import openpyxl\n",
    "import re\n",
    "import pandas as pd"
   ]
  },
  {
   "cell_type": "code",
   "execution_count": 2,
   "metadata": {},
   "outputs": [],
   "source": [
    "def excel_to_list2d(file_path: str, sheet_name: str):\n",
    "    wb = openpyxl.open(filename=file_path, data_only=True)\n",
    "    ws = wb[sheet_name]\n",
    "    list2d = [[cell.value for cell in row] for row in ws[1:ws.max_row]]\n",
    "    \n",
    "    return list2d"
   ]
  },
  {
   "cell_type": "code",
   "execution_count": 3,
   "metadata": {},
   "outputs": [],
   "source": [
    "def list2d_to_new_excel(list2d: list, new_path: str):\n",
    "    wb = openpyxl.Workbook()\n",
    "    ws = wb.active\n",
    "\n",
    "    for row_idx, row in enumerate(list2d):\n",
    "        for col_idx, col in enumerate(row):\n",
    "            val = list2d[row_idx][col_idx]\n",
    "            ws.cell(\n",
    "                row=row_idx+1,\n",
    "                column=col_idx+1,\n",
    "                value=val\n",
    "            )\n",
    "\n",
    "    wb.save(new_path)"
   ]
  },
  {
   "cell_type": "code",
   "execution_count": 4,
   "metadata": {},
   "outputs": [],
   "source": [
    "unikey = {\n",
    "    \"a\": [\n",
    "        \"a\", \"á\", \"à\", \"ả\", \"ã\", \"ạ\",\n",
    "        \"ă\", \"ắ\", \"ằ\", \"ẳ\", \"ẵ\", \"ặ\",\n",
    "        \"â\", \"ấ\", \"ầ\", \"ẩ\", \"ẫ\", \"ậ\"\n",
    "    ],\n",
    "    \"d\": [\n",
    "        \"d\", \"đ\"\n",
    "    ],\n",
    "    \"e\": [\n",
    "        \"e\", \"é\", \"è\", \"ẻ\", \"ẽ\", \"ẹ\",\n",
    "        \"ê\", \"ế\", \"ề\", \"ể\", \"ễ\", \"ệ\"\n",
    "    ],\n",
    "    \"i\": [\n",
    "        \"i\", \"í\", \"ì\", \"ỉ\", \"ĩ\", \"ị\"\n",
    "    ],\n",
    "    \"o\": [\n",
    "        \"o\", \"ó\", \"ò\", \"ỏ\", \"õ\", \"ọ\",\n",
    "        \"ô\", \"ố\", \"ồ\", \"ổ\", \"ỗ\", \"ộ\",\n",
    "        \"ơ\", \"ớ\", \"ờ\", \"ở\", \"ỡ\", \"ợ\"\n",
    "    ],\n",
    "    \"u\": [\n",
    "        \"u\", \"ú\", \"ù\", \"ủ\", \"ũ\", \"ụ\",\n",
    "        \"ư\", \"ứ\", \"ừ\", \"ử\", \"ữ\", \"ự\"\n",
    "    ],\n",
    "    \"y\": [\n",
    "        \"y\", \"ý\", \"ỳ\", \"ỷ\", \"ỹ\", \"ỵ\"\n",
    "    ]\n",
    "}"
   ]
  },
  {
   "cell_type": "code",
   "execution_count": 5,
   "metadata": {},
   "outputs": [],
   "source": [
    "def remove_diacritic(txt: str):\n",
    "    txt = txt.lower()\n",
    "    for key, values in unikey.items():\n",
    "        for val in values:\n",
    "            txt = re.sub(val, key, txt)\n",
    "    txt = re.sub(\"[^a-z0-9]\", \"_\", txt)\n",
    "    txt = re.sub(\"_+\", \"_\", txt)\n",
    "\n",
    "    return txt"
   ]
  },
  {
   "cell_type": "code",
   "execution_count": 12,
   "metadata": {},
   "outputs": [
    {
     "data": {
      "text/plain": [
       "'01_thanh_pho_ca_mau'"
      ]
     },
     "execution_count": 12,
     "metadata": {},
     "output_type": "execute_result"
    }
   ],
   "source": [
    "a = \"01. Thành phố Cà Mau\"\n",
    "remove_diacritic(a)"
   ]
  },
  {
   "cell_type": "code",
   "execution_count": 7,
   "metadata": {},
   "outputs": [],
   "source": [
    "table = excel_to_list2d(r\"C:\\05_Project\\DDCI Ca Mau 2023\\3. DSDN\\2. Xu ly mau\\cm2023_phanbo.xlsx\", \"Data\")"
   ]
  },
  {
   "cell_type": "code",
   "execution_count": 8,
   "metadata": {},
   "outputs": [],
   "source": [
    "df = pd.DataFrame(table[1:], columns=table[0])"
   ]
  },
  {
   "cell_type": "code",
   "execution_count": 9,
   "metadata": {},
   "outputs": [],
   "source": [
    "groups = df.groupby(by=\"donvi_01\")"
   ]
  },
  {
   "cell_type": "code",
   "execution_count": 10,
   "metadata": {},
   "outputs": [],
   "source": [
    "target_dir = r\"C:\\05_Project\\DDCI Ca Mau 2023\\3. DSDN\\2. Xu ly mau\\Processing\\Step 8\""
   ]
  },
  {
   "cell_type": "code",
   "execution_count": 11,
   "metadata": {},
   "outputs": [],
   "source": [
    "for idx in df.value_counts(subset=[\"donvi_01\"], dropna=False).index:\n",
    "    grp_name = idx[0]\n",
    "    grp_df = groups.get_group(grp_name)\n",
    "    file_name = remove_diacritic(grp_name)\n",
    "    grp_df.to_excel(target_dir+\"\\\\\"+file_name+\".xlsx\", index=False)\n",
    "    break"
   ]
  }
 ],
 "metadata": {
  "kernelspec": {
   "display_name": "Python 3",
   "language": "python",
   "name": "python3"
  },
  "language_info": {
   "codemirror_mode": {
    "name": "ipython",
    "version": 3
   },
   "file_extension": ".py",
   "mimetype": "text/x-python",
   "name": "python",
   "nbconvert_exporter": "python",
   "pygments_lexer": "ipython3",
   "version": "3.12.2"
  }
 },
 "nbformat": 4,
 "nbformat_minor": 2
}
